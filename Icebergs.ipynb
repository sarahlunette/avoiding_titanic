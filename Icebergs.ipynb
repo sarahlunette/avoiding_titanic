{
 "cells": [
  {
   "cell_type": "code",
   "execution_count": null,
   "id": "c9d1d4a2",
   "metadata": {},
   "outputs": [],
   "source": [
    "#On va chercher le nombre d'icebergs qui voyagent ensemble en même temps (on a les observation du nombre d'Icebergs et leur taille))"
   ]
  },
  {
   "cell_type": "code",
   "execution_count": 114,
   "id": "8b5e1d26",
   "metadata": {},
   "outputs": [],
   "source": [
    "import pandas as pd\n",
    "import numpy as np\n",
    "from sklearn.model_selection import train_test_split"
   ]
  },
  {
   "cell_type": "code",
   "execution_count": 115,
   "id": "3f73b940",
   "metadata": {},
   "outputs": [],
   "source": [
    "df = pd.read_csv('AAD_Iceberg_database_1979-1984_version_2022-06-28.csv')"
   ]
  },
  {
   "cell_type": "code",
   "execution_count": 116,
   "id": "ce3c7d26",
   "metadata": {},
   "outputs": [
    {
     "data": {
      "text/plain": [
       "13502"
      ]
     },
     "execution_count": 116,
     "metadata": {},
     "output_type": "execute_result"
    }
   ],
   "source": [
    "number_of_icebergs = df['Total'].sum()\n",
    "number_of_icebergs"
   ]
  },
  {
   "cell_type": "code",
   "execution_count": 117,
   "id": "68fdfa8f",
   "metadata": {},
   "outputs": [
    {
     "data": {
      "text/html": [
       "<div>\n",
       "<style scoped>\n",
       "    .dataframe tbody tr th:only-of-type {\n",
       "        vertical-align: middle;\n",
       "    }\n",
       "\n",
       "    .dataframe tbody tr th {\n",
       "        vertical-align: top;\n",
       "    }\n",
       "\n",
       "    .dataframe thead th {\n",
       "        text-align: right;\n",
       "    }\n",
       "</style>\n",
       "<table border=\"1\" class=\"dataframe\">\n",
       "  <thead>\n",
       "    <tr style=\"text-align: right;\">\n",
       "      <th></th>\n",
       "      <th>ID</th>\n",
       "      <th>Cruise-ID</th>\n",
       "      <th>Vessel</th>\n",
       "      <th>Obs_Date_ISO</th>\n",
       "      <th>Obs_Date_NZ</th>\n",
       "      <th>Obs_Lat</th>\n",
       "      <th>Obs_Lon</th>\n",
       "      <th>Ice_conc</th>\n",
       "      <th>RV</th>\n",
       "      <th>Total</th>\n",
       "      <th>size1</th>\n",
       "      <th>size2</th>\n",
       "      <th>size3</th>\n",
       "      <th>size4</th>\n",
       "      <th>size5</th>\n",
       "    </tr>\n",
       "  </thead>\n",
       "  <tbody>\n",
       "    <tr>\n",
       "      <th>0</th>\n",
       "      <td>1</td>\n",
       "      <td>787901</td>\n",
       "      <td>Nella Dan</td>\n",
       "      <td>1978-12-13T18:30Z</td>\n",
       "      <td>13\\12\\1978 18:30</td>\n",
       "      <td>-58.72</td>\n",
       "      <td>111.50</td>\n",
       "      <td>0</td>\n",
       "      <td>X</td>\n",
       "      <td>1</td>\n",
       "      <td>0</td>\n",
       "      <td>0</td>\n",
       "      <td>0</td>\n",
       "      <td>0</td>\n",
       "      <td>0</td>\n",
       "    </tr>\n",
       "    <tr>\n",
       "      <th>1</th>\n",
       "      <td>2</td>\n",
       "      <td>787901</td>\n",
       "      <td>Nella Dan</td>\n",
       "      <td>1978-12-13T21:30Z</td>\n",
       "      <td>13\\12\\1978 21:30</td>\n",
       "      <td>-58.88</td>\n",
       "      <td>110.67</td>\n",
       "      <td>0</td>\n",
       "      <td>X</td>\n",
       "      <td>2</td>\n",
       "      <td>0</td>\n",
       "      <td>0</td>\n",
       "      <td>0</td>\n",
       "      <td>0</td>\n",
       "      <td>0</td>\n",
       "    </tr>\n",
       "    <tr>\n",
       "      <th>2</th>\n",
       "      <td>3</td>\n",
       "      <td>787901</td>\n",
       "      <td>Nella Dan</td>\n",
       "      <td>1978-12-13T23:30Z</td>\n",
       "      <td>13\\12\\1978 23:30</td>\n",
       "      <td>-59.03</td>\n",
       "      <td>110.00</td>\n",
       "      <td>0</td>\n",
       "      <td>X</td>\n",
       "      <td>4</td>\n",
       "      <td>0</td>\n",
       "      <td>0</td>\n",
       "      <td>0</td>\n",
       "      <td>0</td>\n",
       "      <td>0</td>\n",
       "    </tr>\n",
       "    <tr>\n",
       "      <th>3</th>\n",
       "      <td>4</td>\n",
       "      <td>787901</td>\n",
       "      <td>Nella Dan</td>\n",
       "      <td>1978-12-14T01:30Z</td>\n",
       "      <td>14\\12\\1978 01:30</td>\n",
       "      <td>-59.17</td>\n",
       "      <td>109.30</td>\n",
       "      <td>0</td>\n",
       "      <td>X</td>\n",
       "      <td>5</td>\n",
       "      <td>0</td>\n",
       "      <td>0</td>\n",
       "      <td>0</td>\n",
       "      <td>0</td>\n",
       "      <td>0</td>\n",
       "    </tr>\n",
       "    <tr>\n",
       "      <th>4</th>\n",
       "      <td>5</td>\n",
       "      <td>787901</td>\n",
       "      <td>Nella Dan</td>\n",
       "      <td>1978-12-14T03:40Z</td>\n",
       "      <td>14\\12\\1978 03:40</td>\n",
       "      <td>-59.22</td>\n",
       "      <td>109.00</td>\n",
       "      <td>0</td>\n",
       "      <td>X</td>\n",
       "      <td>4</td>\n",
       "      <td>0</td>\n",
       "      <td>0</td>\n",
       "      <td>0</td>\n",
       "      <td>0</td>\n",
       "      <td>0</td>\n",
       "    </tr>\n",
       "    <tr>\n",
       "      <th>...</th>\n",
       "      <td>...</td>\n",
       "      <td>...</td>\n",
       "      <td>...</td>\n",
       "      <td>...</td>\n",
       "      <td>...</td>\n",
       "      <td>...</td>\n",
       "      <td>...</td>\n",
       "      <td>...</td>\n",
       "      <td>...</td>\n",
       "      <td>...</td>\n",
       "      <td>...</td>\n",
       "      <td>...</td>\n",
       "      <td>...</td>\n",
       "      <td>...</td>\n",
       "      <td>...</td>\n",
       "    </tr>\n",
       "    <tr>\n",
       "      <th>965</th>\n",
       "      <td>966</td>\n",
       "      <td>838408</td>\n",
       "      <td>Nella Dan</td>\n",
       "      <td>1984-03-07T05:00Z</td>\n",
       "      <td>07\\03\\1984 05:00</td>\n",
       "      <td>-64.52</td>\n",
       "      <td>65.72</td>\n",
       "      <td>0</td>\n",
       "      <td>X</td>\n",
       "      <td>5</td>\n",
       "      <td>0</td>\n",
       "      <td>3</td>\n",
       "      <td>2</td>\n",
       "      <td>0</td>\n",
       "      <td>0</td>\n",
       "    </tr>\n",
       "    <tr>\n",
       "      <th>966</th>\n",
       "      <td>967</td>\n",
       "      <td>838408</td>\n",
       "      <td>Nella Dan</td>\n",
       "      <td>1984-03-07T07:00Z</td>\n",
       "      <td>07\\03\\1984 07:00</td>\n",
       "      <td>-64.12</td>\n",
       "      <td>66.13</td>\n",
       "      <td>0</td>\n",
       "      <td>X</td>\n",
       "      <td>3</td>\n",
       "      <td>0</td>\n",
       "      <td>3</td>\n",
       "      <td>0</td>\n",
       "      <td>0</td>\n",
       "      <td>0</td>\n",
       "    </tr>\n",
       "    <tr>\n",
       "      <th>967</th>\n",
       "      <td>968</td>\n",
       "      <td>838408</td>\n",
       "      <td>Nella Dan</td>\n",
       "      <td>1984-03-07T11:00Z</td>\n",
       "      <td>07\\03\\1984 11:00</td>\n",
       "      <td>-63.32</td>\n",
       "      <td>66.95</td>\n",
       "      <td>0</td>\n",
       "      <td>X</td>\n",
       "      <td>1</td>\n",
       "      <td>0</td>\n",
       "      <td>1</td>\n",
       "      <td>0</td>\n",
       "      <td>0</td>\n",
       "      <td>0</td>\n",
       "    </tr>\n",
       "    <tr>\n",
       "      <th>968</th>\n",
       "      <td>969</td>\n",
       "      <td>838408</td>\n",
       "      <td>Nella Dan</td>\n",
       "      <td>1984-03-08T01:00Z</td>\n",
       "      <td>08\\03\\1984 01:00</td>\n",
       "      <td>-60.50</td>\n",
       "      <td>69.57</td>\n",
       "      <td>0</td>\n",
       "      <td>X</td>\n",
       "      <td>1</td>\n",
       "      <td>0</td>\n",
       "      <td>0</td>\n",
       "      <td>1</td>\n",
       "      <td>0</td>\n",
       "      <td>0</td>\n",
       "    </tr>\n",
       "    <tr>\n",
       "      <th>969</th>\n",
       "      <td>970</td>\n",
       "      <td>838408</td>\n",
       "      <td>Nella Dan</td>\n",
       "      <td>1984-03-08T03:00Z</td>\n",
       "      <td>08\\03\\1984 03:00</td>\n",
       "      <td>-60.22</td>\n",
       "      <td>69.92</td>\n",
       "      <td>0</td>\n",
       "      <td>X</td>\n",
       "      <td>1</td>\n",
       "      <td>0</td>\n",
       "      <td>1</td>\n",
       "      <td>0</td>\n",
       "      <td>0</td>\n",
       "      <td>0</td>\n",
       "    </tr>\n",
       "  </tbody>\n",
       "</table>\n",
       "<p>970 rows × 15 columns</p>\n",
       "</div>"
      ],
      "text/plain": [
       "      ID  Cruise-ID     Vessel       Obs_Date_ISO       Obs_Date_NZ  Obs_Lat  \\\n",
       "0      1     787901  Nella Dan  1978-12-13T18:30Z  13\\12\\1978 18:30   -58.72   \n",
       "1      2     787901  Nella Dan  1978-12-13T21:30Z  13\\12\\1978 21:30   -58.88   \n",
       "2      3     787901  Nella Dan  1978-12-13T23:30Z  13\\12\\1978 23:30   -59.03   \n",
       "3      4     787901  Nella Dan  1978-12-14T01:30Z  14\\12\\1978 01:30   -59.17   \n",
       "4      5     787901  Nella Dan  1978-12-14T03:40Z  14\\12\\1978 03:40   -59.22   \n",
       "..   ...        ...        ...                ...               ...      ...   \n",
       "965  966     838408  Nella Dan  1984-03-07T05:00Z  07\\03\\1984 05:00   -64.52   \n",
       "966  967     838408  Nella Dan  1984-03-07T07:00Z  07\\03\\1984 07:00   -64.12   \n",
       "967  968     838408  Nella Dan  1984-03-07T11:00Z  07\\03\\1984 11:00   -63.32   \n",
       "968  969     838408  Nella Dan  1984-03-08T01:00Z  08\\03\\1984 01:00   -60.50   \n",
       "969  970     838408  Nella Dan  1984-03-08T03:00Z  08\\03\\1984 03:00   -60.22   \n",
       "\n",
       "     Obs_Lon  Ice_conc RV  Total  size1  size2  size3  size4  size5  \n",
       "0     111.50         0  X      1      0      0      0      0      0  \n",
       "1     110.67         0  X      2      0      0      0      0      0  \n",
       "2     110.00         0  X      4      0      0      0      0      0  \n",
       "3     109.30         0  X      5      0      0      0      0      0  \n",
       "4     109.00         0  X      4      0      0      0      0      0  \n",
       "..       ...       ... ..    ...    ...    ...    ...    ...    ...  \n",
       "965    65.72         0  X      5      0      3      2      0      0  \n",
       "966    66.13         0  X      3      0      3      0      0      0  \n",
       "967    66.95         0  X      1      0      1      0      0      0  \n",
       "968    69.57         0  X      1      0      0      1      0      0  \n",
       "969    69.92         0  X      1      0      1      0      0      0  \n",
       "\n",
       "[970 rows x 15 columns]"
      ]
     },
     "execution_count": 117,
     "metadata": {},
     "output_type": "execute_result"
    }
   ],
   "source": [
    "df"
   ]
  },
  {
   "cell_type": "code",
   "execution_count": 118,
   "id": "83808d23",
   "metadata": {},
   "outputs": [
    {
     "data": {
      "text/html": [
       "<div>\n",
       "<style scoped>\n",
       "    .dataframe tbody tr th:only-of-type {\n",
       "        vertical-align: middle;\n",
       "    }\n",
       "\n",
       "    .dataframe tbody tr th {\n",
       "        vertical-align: top;\n",
       "    }\n",
       "\n",
       "    .dataframe thead th {\n",
       "        text-align: right;\n",
       "    }\n",
       "</style>\n",
       "<table border=\"1\" class=\"dataframe\">\n",
       "  <thead>\n",
       "    <tr style=\"text-align: right;\">\n",
       "      <th></th>\n",
       "      <th>Obs_Date_NZ</th>\n",
       "      <th>Obs_Lat</th>\n",
       "      <th>Obs_Lon</th>\n",
       "      <th>Total</th>\n",
       "      <th>size1</th>\n",
       "      <th>size2</th>\n",
       "      <th>size3</th>\n",
       "      <th>size4</th>\n",
       "      <th>size5</th>\n",
       "    </tr>\n",
       "  </thead>\n",
       "  <tbody>\n",
       "    <tr>\n",
       "      <th>0</th>\n",
       "      <td>13\\12\\1978 18:30</td>\n",
       "      <td>-58.72</td>\n",
       "      <td>111.50</td>\n",
       "      <td>1</td>\n",
       "      <td>0</td>\n",
       "      <td>0</td>\n",
       "      <td>0</td>\n",
       "      <td>0</td>\n",
       "      <td>0</td>\n",
       "    </tr>\n",
       "    <tr>\n",
       "      <th>1</th>\n",
       "      <td>13\\12\\1978 21:30</td>\n",
       "      <td>-58.88</td>\n",
       "      <td>110.67</td>\n",
       "      <td>2</td>\n",
       "      <td>0</td>\n",
       "      <td>0</td>\n",
       "      <td>0</td>\n",
       "      <td>0</td>\n",
       "      <td>0</td>\n",
       "    </tr>\n",
       "    <tr>\n",
       "      <th>2</th>\n",
       "      <td>13\\12\\1978 23:30</td>\n",
       "      <td>-59.03</td>\n",
       "      <td>110.00</td>\n",
       "      <td>4</td>\n",
       "      <td>0</td>\n",
       "      <td>0</td>\n",
       "      <td>0</td>\n",
       "      <td>0</td>\n",
       "      <td>0</td>\n",
       "    </tr>\n",
       "    <tr>\n",
       "      <th>3</th>\n",
       "      <td>14\\12\\1978 01:30</td>\n",
       "      <td>-59.17</td>\n",
       "      <td>109.30</td>\n",
       "      <td>5</td>\n",
       "      <td>0</td>\n",
       "      <td>0</td>\n",
       "      <td>0</td>\n",
       "      <td>0</td>\n",
       "      <td>0</td>\n",
       "    </tr>\n",
       "    <tr>\n",
       "      <th>4</th>\n",
       "      <td>14\\12\\1978 03:40</td>\n",
       "      <td>-59.22</td>\n",
       "      <td>109.00</td>\n",
       "      <td>4</td>\n",
       "      <td>0</td>\n",
       "      <td>0</td>\n",
       "      <td>0</td>\n",
       "      <td>0</td>\n",
       "      <td>0</td>\n",
       "    </tr>\n",
       "    <tr>\n",
       "      <th>...</th>\n",
       "      <td>...</td>\n",
       "      <td>...</td>\n",
       "      <td>...</td>\n",
       "      <td>...</td>\n",
       "      <td>...</td>\n",
       "      <td>...</td>\n",
       "      <td>...</td>\n",
       "      <td>...</td>\n",
       "      <td>...</td>\n",
       "    </tr>\n",
       "    <tr>\n",
       "      <th>965</th>\n",
       "      <td>07\\03\\1984 05:00</td>\n",
       "      <td>-64.52</td>\n",
       "      <td>65.72</td>\n",
       "      <td>5</td>\n",
       "      <td>0</td>\n",
       "      <td>3</td>\n",
       "      <td>2</td>\n",
       "      <td>0</td>\n",
       "      <td>0</td>\n",
       "    </tr>\n",
       "    <tr>\n",
       "      <th>966</th>\n",
       "      <td>07\\03\\1984 07:00</td>\n",
       "      <td>-64.12</td>\n",
       "      <td>66.13</td>\n",
       "      <td>3</td>\n",
       "      <td>0</td>\n",
       "      <td>3</td>\n",
       "      <td>0</td>\n",
       "      <td>0</td>\n",
       "      <td>0</td>\n",
       "    </tr>\n",
       "    <tr>\n",
       "      <th>967</th>\n",
       "      <td>07\\03\\1984 11:00</td>\n",
       "      <td>-63.32</td>\n",
       "      <td>66.95</td>\n",
       "      <td>1</td>\n",
       "      <td>0</td>\n",
       "      <td>1</td>\n",
       "      <td>0</td>\n",
       "      <td>0</td>\n",
       "      <td>0</td>\n",
       "    </tr>\n",
       "    <tr>\n",
       "      <th>968</th>\n",
       "      <td>08\\03\\1984 01:00</td>\n",
       "      <td>-60.50</td>\n",
       "      <td>69.57</td>\n",
       "      <td>1</td>\n",
       "      <td>0</td>\n",
       "      <td>0</td>\n",
       "      <td>1</td>\n",
       "      <td>0</td>\n",
       "      <td>0</td>\n",
       "    </tr>\n",
       "    <tr>\n",
       "      <th>969</th>\n",
       "      <td>08\\03\\1984 03:00</td>\n",
       "      <td>-60.22</td>\n",
       "      <td>69.92</td>\n",
       "      <td>1</td>\n",
       "      <td>0</td>\n",
       "      <td>1</td>\n",
       "      <td>0</td>\n",
       "      <td>0</td>\n",
       "      <td>0</td>\n",
       "    </tr>\n",
       "  </tbody>\n",
       "</table>\n",
       "<p>970 rows × 9 columns</p>\n",
       "</div>"
      ],
      "text/plain": [
       "          Obs_Date_NZ  Obs_Lat  Obs_Lon  Total  size1  size2  size3  size4  \\\n",
       "0    13\\12\\1978 18:30   -58.72   111.50      1      0      0      0      0   \n",
       "1    13\\12\\1978 21:30   -58.88   110.67      2      0      0      0      0   \n",
       "2    13\\12\\1978 23:30   -59.03   110.00      4      0      0      0      0   \n",
       "3    14\\12\\1978 01:30   -59.17   109.30      5      0      0      0      0   \n",
       "4    14\\12\\1978 03:40   -59.22   109.00      4      0      0      0      0   \n",
       "..                ...      ...      ...    ...    ...    ...    ...    ...   \n",
       "965  07\\03\\1984 05:00   -64.52    65.72      5      0      3      2      0   \n",
       "966  07\\03\\1984 07:00   -64.12    66.13      3      0      3      0      0   \n",
       "967  07\\03\\1984 11:00   -63.32    66.95      1      0      1      0      0   \n",
       "968  08\\03\\1984 01:00   -60.50    69.57      1      0      0      1      0   \n",
       "969  08\\03\\1984 03:00   -60.22    69.92      1      0      1      0      0   \n",
       "\n",
       "     size5  \n",
       "0        0  \n",
       "1        0  \n",
       "2        0  \n",
       "3        0  \n",
       "4        0  \n",
       "..     ...  \n",
       "965      0  \n",
       "966      0  \n",
       "967      0  \n",
       "968      0  \n",
       "969      0  \n",
       "\n",
       "[970 rows x 9 columns]"
      ]
     },
     "execution_count": 118,
     "metadata": {},
     "output_type": "execute_result"
    }
   ],
   "source": [
    "df = df[['Obs_Date_NZ', 'Obs_Lat', 'Obs_Lon', 'Total', 'size1','size2', 'size3', 'size4', 'size5']]\n",
    "df"
   ]
  },
  {
   "cell_type": "code",
   "execution_count": 119,
   "id": "ebfcc8bf",
   "metadata": {},
   "outputs": [
    {
     "data": {
      "text/plain": [
       "Obs_Date_NZ    0\n",
       "Obs_Lat        0\n",
       "Obs_Lon        0\n",
       "Total          0\n",
       "size1          0\n",
       "size2          0\n",
       "size3          0\n",
       "size4          0\n",
       "size5          0\n",
       "dtype: int64"
      ]
     },
     "execution_count": 119,
     "metadata": {},
     "output_type": "execute_result"
    }
   ],
   "source": [
    "df.isna().sum()"
   ]
  },
  {
   "cell_type": "code",
   "execution_count": 120,
   "id": "7e4aafc5",
   "metadata": {},
   "outputs": [
    {
     "name": "stdout",
     "output_type": "stream",
     "text": [
      "<class 'pandas.core.frame.DataFrame'>\n",
      "RangeIndex: 970 entries, 0 to 969\n",
      "Data columns (total 9 columns):\n",
      " #   Column       Non-Null Count  Dtype  \n",
      "---  ------       --------------  -----  \n",
      " 0   Obs_Date_NZ  970 non-null    object \n",
      " 1   Obs_Lat      970 non-null    float64\n",
      " 2   Obs_Lon      970 non-null    float64\n",
      " 3   Total        970 non-null    int64  \n",
      " 4   size1        970 non-null    int64  \n",
      " 5   size2        970 non-null    int64  \n",
      " 6   size3        970 non-null    int64  \n",
      " 7   size4        970 non-null    int64  \n",
      " 8   size5        970 non-null    int64  \n",
      "dtypes: float64(2), int64(6), object(1)\n",
      "memory usage: 68.3+ KB\n"
     ]
    }
   ],
   "source": [
    "df.info()"
   ]
  },
  {
   "cell_type": "code",
   "execution_count": 121,
   "id": "9d1d5d42",
   "metadata": {},
   "outputs": [
    {
     "name": "stdout",
     "output_type": "stream",
     "text": [
      "          Obs_Date_NZ  Obs_Lat  Obs_Lon  Total  size1  size2  size3  size4  \\\n",
      "0    13-12-1978 18:30   -58.72   111.50      1      0      0      0      0   \n",
      "1    13-12-1978 21:30   -58.88   110.67      2      0      0      0      0   \n",
      "2    13-12-1978 23:30   -59.03   110.00      4      0      0      0      0   \n",
      "3    14-12-1978 01:30   -59.17   109.30      5      0      0      0      0   \n",
      "4    14-12-1978 03:40   -59.22   109.00      4      0      0      0      0   \n",
      "..                ...      ...      ...    ...    ...    ...    ...    ...   \n",
      "965  07-03-1984 05:00   -64.52    65.72      5      0      3      2      0   \n",
      "966  07-03-1984 07:00   -64.12    66.13      3      0      3      0      0   \n",
      "967  07-03-1984 11:00   -63.32    66.95      1      0      1      0      0   \n",
      "968  08-03-1984 01:00   -60.50    69.57      1      0      0      1      0   \n",
      "969  08-03-1984 03:00   -60.22    69.92      1      0      1      0      0   \n",
      "\n",
      "     size5  \n",
      "0        0  \n",
      "1        0  \n",
      "2        0  \n",
      "3        0  \n",
      "4        0  \n",
      "..     ...  \n",
      "965      0  \n",
      "966      0  \n",
      "967      0  \n",
      "968      0  \n",
      "969      0  \n",
      "\n",
      "[970 rows x 9 columns]\n"
     ]
    },
    {
     "name": "stderr",
     "output_type": "stream",
     "text": [
      "/var/folders/13/d095gb7d3w707hsyf79x8q4r0000gn/T/ipykernel_8819/158946224.py:1: SettingWithCopyWarning: \n",
      "A value is trying to be set on a copy of a slice from a DataFrame.\n",
      "Try using .loc[row_indexer,col_indexer] = value instead\n",
      "\n",
      "See the caveats in the documentation: https://pandas.pydata.org/pandas-docs/stable/user_guide/indexing.html#returning-a-view-versus-a-copy\n",
      "  df['Obs_Date_NZ'] = df['Obs_Date_NZ'].apply(str)\n",
      "/var/folders/13/d095gb7d3w707hsyf79x8q4r0000gn/T/ipykernel_8819/158946224.py:3: SettingWithCopyWarning: \n",
      "A value is trying to be set on a copy of a slice from a DataFrame.\n",
      "Try using .loc[row_indexer,col_indexer] = value instead\n",
      "\n",
      "See the caveats in the documentation: https://pandas.pydata.org/pandas-docs/stable/user_guide/indexing.html#returning-a-view-versus-a-copy\n",
      "  df['Obs_Date_NZ']  = df['Obs_Date_NZ'].replace(r'\\\\', '-', regex=True)\n",
      "/var/folders/13/d095gb7d3w707hsyf79x8q4r0000gn/T/ipykernel_8819/158946224.py:5: SettingWithCopyWarning: \n",
      "A value is trying to be set on a copy of a slice from a DataFrame.\n",
      "Try using .loc[row_indexer,col_indexer] = value instead\n",
      "\n",
      "See the caveats in the documentation: https://pandas.pydata.org/pandas-docs/stable/user_guide/indexing.html#returning-a-view-versus-a-copy\n",
      "  df['Obs_Date_NZ'] = pd.to_datetime(df['Obs_Date_NZ'])\n"
     ]
    }
   ],
   "source": [
    "df['Obs_Date_NZ'] = df['Obs_Date_NZ'].apply(str)\n",
    "df['Obs_Date_NZ'][0]\n",
    "df['Obs_Date_NZ']  = df['Obs_Date_NZ'].replace(r'\\\\', '-', regex=True)\n",
    "print(df)\n",
    "df['Obs_Date_NZ'] = pd.to_datetime(df['Obs_Date_NZ'])"
   ]
  },
  {
   "cell_type": "code",
   "execution_count": 122,
   "id": "36d82953",
   "metadata": {},
   "outputs": [
    {
     "name": "stderr",
     "output_type": "stream",
     "text": [
      "/var/folders/13/d095gb7d3w707hsyf79x8q4r0000gn/T/ipykernel_8819/4075705559.py:2: SettingWithCopyWarning: \n",
      "A value is trying to be set on a copy of a slice from a DataFrame.\n",
      "Try using .loc[row_indexer,col_indexer] = value instead\n",
      "\n",
      "See the caveats in the documentation: https://pandas.pydata.org/pandas-docs/stable/user_guide/indexing.html#returning-a-view-versus-a-copy\n",
      "  df['Total_observed'] = df['size1'] + df['size2']  + df['size3'] + df['size4'] + df['size5']\n",
      "/var/folders/13/d095gb7d3w707hsyf79x8q4r0000gn/T/ipykernel_8819/4075705559.py:3: SettingWithCopyWarning: \n",
      "A value is trying to be set on a copy of a slice from a DataFrame.\n",
      "Try using .loc[row_indexer,col_indexer] = value instead\n",
      "\n",
      "See the caveats in the documentation: https://pandas.pydata.org/pandas-docs/stable/user_guide/indexing.html#returning-a-view-versus-a-copy\n",
      "  df['T'] = df['Total']-df['Total_observed']\n"
     ]
    }
   ],
   "source": [
    "df['Total'].unique()\n",
    "df['Total_observed'] = df['size1'] + df['size2']  + df['size3'] + df['size4'] + df['size5']\n",
    "df['T'] = df['Total']-df['Total_observed']"
   ]
  },
  {
   "cell_type": "code",
   "execution_count": 126,
   "id": "0cfc26f6",
   "metadata": {},
   "outputs": [
    {
     "data": {
      "text/plain": [
       "23     3\n",
       "24     2\n",
       "27     4\n",
       "28     3\n",
       "31     1\n",
       "      ..\n",
       "965    3\n",
       "966    2\n",
       "967    2\n",
       "968    3\n",
       "969    2\n",
       "Length: 405, dtype: int64"
      ]
     },
     "execution_count": 126,
     "metadata": {},
     "output_type": "execute_result"
    }
   ],
   "source": [
    "df[['size1', 'size2', 'size3', 'size4', 'size5']].max(axis = 1)"
   ]
  },
  {
   "cell_type": "code",
   "execution_count": 127,
   "id": "175478e1",
   "metadata": {},
   "outputs": [
    {
     "name": "stdout",
     "output_type": "stream",
     "text": [
      "     Obs_Lat  Obs_Lon  Total  size1  size2  size3  size4  size5  size  year  \\\n",
      "23    -60.40   123.83      3      1      0      1      0      0     3  1979   \n",
      "24    -60.50   123.47      4      1      1      0      0      0     2  1979   \n",
      "27    -61.68   119.93      6      1      1      1      1      0     4  1979   \n",
      "28    -61.73   119.93      3      0      1      1      0      0     3  1979   \n",
      "31    -62.07   119.92      1      1      0      0      0      0     1  1979   \n",
      "..       ...      ...    ...    ...    ...    ...    ...    ...   ...   ...   \n",
      "965   -64.52    65.72      5      0      1      1      0      0     3  1984   \n",
      "966   -64.12    66.13      3      0      1      0      0      0     2  1984   \n",
      "967   -63.32    66.95      1      0      1      0      0      0     2  1984   \n",
      "968   -60.50    69.57      1      0      0      1      0      0     3  1984   \n",
      "969   -60.22    69.92      1      0      1      0      0      0     2  1984   \n",
      "\n",
      "     month  \n",
      "23       1  \n",
      "24       1  \n",
      "27       1  \n",
      "28       1  \n",
      "31       1  \n",
      "..     ...  \n",
      "965      7  \n",
      "966      7  \n",
      "967      7  \n",
      "968      8  \n",
      "969      8  \n",
      "\n",
      "[405 rows x 11 columns]\n"
     ]
    }
   ],
   "source": [
    "import datetime as dt\n",
    "df = df[~((df['size1'] == 0) & (df['size2'] == 0)& (df['size3'] == 0)& (df['size4'] == 0)& (df['size5'] == 0))]\n",
    "df = df[df['T'].isin([0,1])]\n",
    "df['size1'] = df['size1'].apply(lambda x: 0 if x == 0 else 1)\n",
    "df['size2'] = df['size2'].apply(lambda x: 0 if x == 0 else 2)\n",
    "df['size3'] = df['size3'].apply(lambda x: 0 if x == 0 else 3)\n",
    "df['size4'] = df['size4'].apply(lambda x: 0 if x == 0 else 4)\n",
    "df['size5'] = df['size5'].apply(lambda x: 0 if x == 0 else 5)\n",
    "df['size'] = df[['size1', 'size2', 'size3', 'size4', 'size5']].max(axis = 1).values\n",
    "df['size1'] = df['size1'].apply(lambda x: 0 if x == 0 else 1)\n",
    "df['size2'] = df['size2'].apply(lambda x: 0 if x == 0 else 1)\n",
    "df['size3'] = df['size3'].apply(lambda x: 0 if x == 0 else 1)\n",
    "df['size4'] = df['size4'].apply(lambda x: 0 if x == 0 else 1)\n",
    "df['size5'] = df['size5'].apply(lambda x: 0 if x == 0 else 1)\n",
    "df.drop('Total_observed', axis = 1, inplace = True)\n",
    "df['year'] = df['Obs_Date_NZ'].dt.year\n",
    "df['month'] = df['Obs_Date_NZ'].dt.month\n",
    "df = df.drop('Obs_Date_NZ', axis = 1)\n",
    "df.drop('T', axis = 1, inplace = True)\n",
    "print(df)"
   ]
  },
  {
   "cell_type": "code",
   "execution_count": 128,
   "id": "8b666b19",
   "metadata": {},
   "outputs": [],
   "source": [
    "X = df.drop('Total', axis = 1)\n",
    "y = df['Total']\n",
    "X_train, X_test, y_train, y_test = train_test_split(X, y, test_size = 0.3, random_state = 42)"
   ]
  },
  {
   "cell_type": "code",
   "execution_count": 129,
   "id": "9085b7b2",
   "metadata": {},
   "outputs": [
    {
     "data": {
      "text/plain": [
       "0.37250400082100144"
      ]
     },
     "execution_count": 129,
     "metadata": {},
     "output_type": "execute_result"
    }
   ],
   "source": [
    "from sklearn.linear_model import LinearRegression\n",
    "lr = LinearRegression()\n",
    "lr.fit(X_train, y_train)\n",
    "y_pred = lr.predict(X_test)\n",
    "lr.score(X_test, y_test)"
   ]
  },
  {
   "cell_type": "code",
   "execution_count": 130,
   "id": "1c46d8f4",
   "metadata": {},
   "outputs": [
    {
     "data": {
      "text/plain": [
       "0.5729094822755274"
      ]
     },
     "execution_count": 130,
     "metadata": {},
     "output_type": "execute_result"
    }
   ],
   "source": [
    "from sklearn.ensemble import RandomForestRegressor\n",
    "rf = RandomForestRegressor()\n",
    "rf.fit(X_train, y_train)\n",
    "y_pred = rf.predict(X_test)\n",
    "rf.score(X_test, y_test)"
   ]
  },
  {
   "cell_type": "code",
   "execution_count": 131,
   "id": "938a321a",
   "metadata": {},
   "outputs": [
    {
     "data": {
      "text/plain": [
       "0.22131147540983606"
      ]
     },
     "execution_count": 131,
     "metadata": {},
     "output_type": "execute_result"
    }
   ],
   "source": [
    "from sklearn.neighbors import KNeighborsClassifier\n",
    "knn = KNeighborsClassifier(n_neighbors = 5)\n",
    "knn.fit(X_train, y_train)\n",
    "y_pred = knn.predict(X_test)\n",
    "knn.score(X_test, y_test)"
   ]
  },
  {
   "cell_type": "code",
   "execution_count": 132,
   "id": "9b13bbfa",
   "metadata": {},
   "outputs": [
    {
     "data": {
      "text/plain": [
       "0.20491803278688525"
      ]
     },
     "execution_count": 132,
     "metadata": {},
     "output_type": "execute_result"
    }
   ],
   "source": [
    "from sklearn.svm import SVC\n",
    "svc = SVC()\n",
    "svc.fit(X_train, y_train)\n",
    "y_pred = svc.predict(X_test)\n",
    "svc.score(X_test, y_test)"
   ]
  },
  {
   "cell_type": "code",
   "execution_count": 133,
   "id": "9c17db0d",
   "metadata": {},
   "outputs": [
    {
     "data": {
      "text/plain": [
       "0.21311475409836064"
      ]
     },
     "execution_count": 133,
     "metadata": {},
     "output_type": "execute_result"
    }
   ],
   "source": [
    "from sklearn.ensemble import GradientBoostingClassifier\n",
    "gbc = GradientBoostingClassifier()\n",
    "gbc.fit(X_train, y_train)\n",
    "y_pred = gbc.predict(X_test)\n",
    "gbc.score(X_test, y_test)"
   ]
  },
  {
   "cell_type": "code",
   "execution_count": 134,
   "id": "ee8cc144",
   "metadata": {},
   "outputs": [
    {
     "data": {
      "text/plain": [
       "0.5462757067498755"
      ]
     },
     "execution_count": 134,
     "metadata": {},
     "output_type": "execute_result"
    }
   ],
   "source": [
    "from sklearn.ensemble import GradientBoostingRegressor\n",
    "gbr = GradientBoostingRegressor()\n",
    "gbr.fit(X_train, y_train)\n",
    "y_pred = gbr.predict(X_test)\n",
    "gbr.score(X_test, y_test)"
   ]
  },
  {
   "cell_type": "code",
   "execution_count": 135,
   "id": "cf56ea9c",
   "metadata": {},
   "outputs": [],
   "source": [
    "df.drop('size1', axis = 1, inplace = True)\n",
    "df.drop('size2', axis = 1, inplace = True)\n",
    "df.drop('size3', axis = 1, inplace = True)\n",
    "df.drop('size4', axis = 1, inplace = True)\n",
    "df.drop('size5', axis = 1, inplace = True)"
   ]
  },
  {
   "cell_type": "code",
   "execution_count": 136,
   "id": "ee40bc13",
   "metadata": {},
   "outputs": [],
   "source": [
    "X = df.drop('size', axis = 1)\n",
    "y = df['size']\n",
    "X_train, X_test, y_train, y_test = train_test_split(X, y, test_size = 0.3, random_state = 42)"
   ]
  },
  {
   "cell_type": "code",
   "execution_count": 139,
   "id": "d38d1f04",
   "metadata": {},
   "outputs": [
    {
     "data": {
      "text/plain": [
       "0.47540983606557374"
      ]
     },
     "execution_count": 139,
     "metadata": {},
     "output_type": "execute_result"
    }
   ],
   "source": [
    "from sklearn.ensemble import GradientBoostingClassifier\n",
    "gbc_size = GradientBoostingClassifier()\n",
    "gbc_size.fit(X_train, y_train)\n",
    "y_pred = gbc_size.predict(X_test)\n",
    "gbc_size.score(X_test, y_test)"
   ]
  },
  {
   "cell_type": "code",
   "execution_count": 140,
   "id": "66f816dd",
   "metadata": {},
   "outputs": [
    {
     "data": {
      "text/plain": [
       "0.3360655737704918"
      ]
     },
     "execution_count": 140,
     "metadata": {},
     "output_type": "execute_result"
    }
   ],
   "source": [
    "from sklearn.svm import SVC\n",
    "svc_size = SVC()\n",
    "svc_size.fit(X_train, y_train)\n",
    "y_pred = svc_size.predict(X_test)\n",
    "svc_size.score(X_test, y_test)"
   ]
  },
  {
   "cell_type": "code",
   "execution_count": 143,
   "id": "a593ce14",
   "metadata": {},
   "outputs": [
    {
     "data": {
      "text/plain": [
       "0.5505023549699084"
      ]
     },
     "execution_count": 143,
     "metadata": {},
     "output_type": "execute_result"
    }
   ],
   "source": [
    "from sklearn.ensemble import GradientBoostingRegressor\n",
    "gbr_size = GradientBoostingRegressor()\n",
    "gbr_size.fit(X_train, y_train)\n",
    "y_pred = gbr_size.predict(X_test)\n",
    "gbr_size.score(X_test, y_test)"
   ]
  },
  {
   "cell_type": "code",
   "execution_count": null,
   "id": "f478ac2e",
   "metadata": {},
   "outputs": [],
   "source": []
  }
 ],
 "metadata": {
  "kernelspec": {
   "display_name": "Python 3 (ipykernel)",
   "language": "python",
   "name": "python3"
  },
  "language_info": {
   "codemirror_mode": {
    "name": "ipython",
    "version": 3
   },
   "file_extension": ".py",
   "mimetype": "text/x-python",
   "name": "python",
   "nbconvert_exporter": "python",
   "pygments_lexer": "ipython3",
   "version": "3.9.10"
  }
 },
 "nbformat": 4,
 "nbformat_minor": 5
}
